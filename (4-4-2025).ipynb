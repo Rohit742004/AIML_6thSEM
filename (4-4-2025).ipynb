{
 "cells": [
  {
   "cell_type": "markdown",
   "id": "99d2d6a0-1439-40ee-946d-afec128b04a3",
   "metadata": {
    "jp-MarkdownHeadingCollapsed": true
   },
   "source": [
    "#### 1.Tic-Tac-Toe Game\n"
   ]
  },
  {
   "cell_type": "code",
   "execution_count": 3,
   "id": "7d686074-3b98-4764-af82-bc81a1268b3a",
   "metadata": {},
   "outputs": [
    {
     "name": "stdout",
     "output_type": "stream",
     "text": [
      "Welcome to TIC TAC TOE!\n"
     ]
    },
    {
     "name": "stdin",
     "output_type": "stream",
     "text": [
      "Do you want to play first? (yes/no):  n\n"
     ]
    },
    {
     "name": "stdout",
     "output_type": "stream",
     "text": [
      "  |   |  \n",
      "---------\n",
      "  |   |  \n",
      "---------\n",
      "  |   |  \n",
      "---------\n",
      "Computer's turn...\n",
      "  |   |  \n",
      "---------\n",
      "  |   | 1\n",
      "---------\n",
      "  |   |  \n",
      "---------\n",
      "Your turn.\n"
     ]
    },
    {
     "name": "stdin",
     "output_type": "stream",
     "text": [
      "Enter row and column (0-2) separated by space:  0 0\n"
     ]
    },
    {
     "name": "stdout",
     "output_type": "stream",
     "text": [
      "0 |   |  \n",
      "---------\n",
      "  |   | 1\n",
      "---------\n",
      "  |   |  \n",
      "---------\n",
      "Computer's turn...\n",
      "0 | 1 |  \n",
      "---------\n",
      "  |   | 1\n",
      "---------\n",
      "  |   |  \n",
      "---------\n",
      "Your turn.\n"
     ]
    },
    {
     "name": "stdin",
     "output_type": "stream",
     "text": [
      "Enter row and column (0-2) separated by space:  1 0\n"
     ]
    },
    {
     "name": "stdout",
     "output_type": "stream",
     "text": [
      "0 | 1 |  \n",
      "---------\n",
      "0 |   | 1\n",
      "---------\n",
      "  |   |  \n",
      "---------\n",
      "Computer's turn...\n",
      "0 | 1 |  \n",
      "---------\n",
      "0 | 1 | 1\n",
      "---------\n",
      "  |   |  \n",
      "---------\n",
      "Your turn.\n"
     ]
    },
    {
     "name": "stdin",
     "output_type": "stream",
     "text": [
      "Enter row and column (0-2) separated by space:  0 2\n"
     ]
    },
    {
     "name": "stdout",
     "output_type": "stream",
     "text": [
      "0 | 1 | 0\n",
      "---------\n",
      "0 | 1 | 1\n",
      "---------\n",
      "  |   |  \n",
      "---------\n",
      "Computer's turn...\n",
      "0 | 1 | 0\n",
      "---------\n",
      "0 | 1 | 1\n",
      "---------\n",
      "1 |   |  \n",
      "---------\n",
      "Your turn.\n"
     ]
    },
    {
     "name": "stdin",
     "output_type": "stream",
     "text": [
      "Enter row and column (0-2) separated by space:  2 1\n"
     ]
    },
    {
     "name": "stdout",
     "output_type": "stream",
     "text": [
      "0 | 1 | 0\n",
      "---------\n",
      "0 | 1 | 1\n",
      "---------\n",
      "1 | 0 |  \n",
      "---------\n",
      "Computer's turn...\n",
      "0 | 1 | 0\n",
      "---------\n",
      "0 | 1 | 1\n",
      "---------\n",
      "1 | 0 | 1\n",
      "---------\n",
      "It's a draw!\n"
     ]
    }
   ],
   "source": [
    "import random\n",
    "\n",
    "def print_board(board):\n",
    "    for row in board:\n",
    "        print(\" | \".join(map(str, row)))\n",
    "        print(\"-\" * 9)\n",
    "\n",
    "def check_winner(board):\n",
    "    for i in range(3):\n",
    "        if board[i][0] == board[i][1] == board[i][2] and board[i][0] != \" \":\n",
    "            return True\n",
    "        if board[0][i] == board[1][i] == board[2][i] and board[0][i] != \" \":\n",
    "            return True\n",
    "    \n",
    "    \n",
    "    if board[0][0] == board[1][1] == board[2][2] and board[0][0] != \" \":\n",
    "        return True\n",
    "    if board[0][2] == board[1][1] == board[2][0] and board[0][2] != \" \":\n",
    "        return True\n",
    "    \n",
    "    return False\n",
    "\n",
    "def is_full(board):\n",
    "    for row in board:\n",
    "        if \" \" in row:\n",
    "            return False\n",
    "    return True\n",
    "\n",
    "def get_computer_move(board):\n",
    "    empty_cells = [(r, c) for r in range(3) for c in range(3) if board[r][c] == \" \"]\n",
    "    return random.choice(empty_cells) if empty_cells else None\n",
    "\n",
    "def tic_tac_toe():\n",
    "    board = [[\" \" for _ in range(3)] for _ in range(3)]\n",
    "    player_symbol, computer_symbol = \"0\", \"1\"\n",
    "    \n",
    "    print(\"Welcome to TIC TAC TOE!\")\n",
    "    first_player = input(\"Do you want to play first? (yes/no): \").strip().lower()\n",
    "    player_turn = first_player == \"yes\"\n",
    "    \n",
    "    print_board(board)\n",
    "    \n",
    "    while True:\n",
    "        if player_turn:\n",
    "            print(\"Your turn.\")\n",
    "            row, col = -1, -1\n",
    "            while True:\n",
    "                try:\n",
    "                    row, col = map(int, input(\"Enter row and column (0-2) separated by space: \").split())\n",
    "                    if board[row][col] == \" \":\n",
    "                        break\n",
    "                    else:\n",
    "                        print(\"Cell already occupied. Try again.\")\n",
    "                except (ValueError, IndexError):\n",
    "                    print(\"Invalid input. Enter numbers between 0 and 2.\")\n",
    "        else:\n",
    "            print(\"Computer's turn...\")\n",
    "            row, col = get_computer_move(board)\n",
    "        \n",
    "        board[row][col] = player_symbol if player_turn else computer_symbol\n",
    "        print_board(board)\n",
    "        \n",
    "        if check_winner(board):\n",
    "            print(\"You win!\" if player_turn else \"Computer wins!\")\n",
    "            break\n",
    "        elif is_full(board):\n",
    "            print(\"It's a draw!\")\n",
    "            break\n",
    "        \n",
    "        player_turn = not player_turn\n",
    "\n",
    "if __name__ == \"__main__\":\n",
    "    tic_tac_toe()\n"
   ]
  },
  {
   "cell_type": "markdown",
   "id": "61dbd89d-ac68-499f-9fb0-7b454d02bf30",
   "metadata": {
    "jp-MarkdownHeadingCollapsed": true
   },
   "source": [
    "#### 2. 8 puzzle problem"
   ]
  },
  {
   "cell_type": "code",
   "execution_count": 5,
   "id": "804e0714-20bd-4d25-9008-71547cdef9ef",
   "metadata": {},
   "outputs": [
    {
     "name": "stdout",
     "output_type": "stream",
     "text": [
      "Start state:\n",
      "1 2 3\n",
      "4 5 6\n",
      "7   8\n",
      "\n",
      "\n",
      "Solution path:\n",
      "1 2 3\n",
      "4 5 6\n",
      "7   8\n",
      "\n",
      "1 2 3\n",
      "4 5 6\n",
      "7 8  \n",
      "\n"
     ]
    }
   ],
   "source": [
    "import heapq\n",
    "\n",
    "# Goal state for the 8-puzzle\n",
    "goal_state = [[1, 2, 3], [4, 5, 6], [7, 8, 0]]\n",
    "\n",
    "# Get the position of each tile in the goal state\n",
    "goal_positions = {goal_state[i][j]: (i, j) for i in range(3) for j in range(3)}\n",
    "\n",
    "# Directions for moving the empty space\n",
    "directions = [(-1, 0), (1, 0), (0, -1), (0, 1)]  # up, down, left, right\n",
    "\n",
    "# Function to calculate the Manhattan distance heuristic\n",
    "def manhattan_distance(state):\n",
    "    distance = 0\n",
    "    for i in range(3):\n",
    "        for j in range(3):\n",
    "            tile = state[i][j]\n",
    "            if tile != 0:\n",
    "                goal_x, goal_y = goal_positions[tile]\n",
    "                distance += abs(i - goal_x) + abs(j - goal_y)\n",
    "    return distance\n",
    "\n",
    "# Function to get the possible moves for the empty space\n",
    "def get_neighbors(state):\n",
    "    empty_x, empty_y = next((i, j) for i in range(3) for j in range(3) if state[i][j] == 0)\n",
    "    neighbors = []\n",
    "    \n",
    "    for dx, dy in directions:\n",
    "        new_x, new_y = empty_x + dx, empty_y + dy\n",
    "        if 0 <= new_x < 3 and 0 <= new_y < 3:\n",
    "            new_state = [row[:] for row in state]\n",
    "            new_state[empty_x][empty_y], new_state[new_x][new_y] = new_state[new_x][new_y], new_state[empty_x][empty_y]\n",
    "            neighbors.append((new_state, (new_x, new_y)))\n",
    "    return neighbors\n",
    "\n",
    "# Function to reconstruct the path from the goal to the start\n",
    "def reconstruct_path(came_from, current):\n",
    "    path = []\n",
    "    while current is not None:\n",
    "        path.append(current)\n",
    "        current = came_from.get(current)\n",
    "    return path[::-1]\n",
    "\n",
    "# A* search algorithm for solving the 8-puzzle\n",
    "def a_star(start_state):\n",
    "    open_set = []\n",
    "    \n",
    "    # Convert the start state to a tuple of tuples (hashable)\n",
    "    start_state_tuple = tuple(tuple(row) for row in start_state)\n",
    "    \n",
    "    heapq.heappush(open_set, (0 + manhattan_distance(start_state), 0, start_state_tuple, None))  # (f, g, state, parent)\n",
    "    came_from = {}\n",
    "    g_score = {start_state_tuple: 0}\n",
    "    \n",
    "    while open_set:\n",
    "        _, g, current_state, parent = heapq.heappop(open_set)\n",
    "        \n",
    "        if current_state == tuple(tuple(row) for row in goal_state):\n",
    "            return reconstruct_path(came_from, current_state)\n",
    "        \n",
    "        for neighbor_state, _ in get_neighbors([list(row) for row in current_state]):  # Convert back to list for manipulation\n",
    "            neighbor_tuple = tuple(tuple(row) for row in neighbor_state)  # Convert back to tuple\n",
    "            \n",
    "            tentative_g_score = g + 1\n",
    "            \n",
    "            if neighbor_tuple not in g_score or tentative_g_score < g_score[neighbor_tuple]:\n",
    "                g_score[neighbor_tuple] = tentative_g_score\n",
    "                f_score = tentative_g_score + manhattan_distance(neighbor_state)\n",
    "                heapq.heappush(open_set, (f_score, tentative_g_score, neighbor_tuple, current_state))\n",
    "                came_from[neighbor_tuple] = current_state\n",
    "    \n",
    "    return None  # No solution found\n",
    "\n",
    "# Function to print the state of the board\n",
    "def print_board(state):\n",
    "    for row in state:\n",
    "        print(\" \".join(str(x) if x != 0 else \" \" for x in row))\n",
    "    print()\n",
    "\n",
    "if __name__ == \"__main__\":\n",
    "    # Define the start state of the puzzle\n",
    "    start_state = [\n",
    "        [1, 2, 3],\n",
    "        [4, 5, 6],\n",
    "        [7, 0, 8]\n",
    "    ]\n",
    "    \n",
    "    print(\"Start state:\")\n",
    "    print_board(start_state)\n",
    "    \n",
    "    # Solve the puzzle using A*\n",
    "    path = a_star(start_state)\n",
    "    \n",
    "    if path:\n",
    "        print(\"\\nSolution path:\")\n",
    "        for state in path:\n",
    "            print_board(state)\n",
    "    else:\n",
    "        print(\"\\nNo solution found.\")\n"
   ]
  },
  {
   "cell_type": "markdown",
   "id": "72875e54-0f79-4ce5-bfc1-5e7b9b152dce",
   "metadata": {
    "jp-MarkdownHeadingCollapsed": true
   },
   "source": [
    "#### 3. 6 x 6 Sudoku game"
   ]
  },
  {
   "cell_type": "code",
   "execution_count": 8,
   "id": "3fe17943-42c6-4390-b002-9a0841643e35",
   "metadata": {},
   "outputs": [
    {
     "name": "stdout",
     "output_type": "stream",
     "text": [
      "Original Sudoku Puzzle:\n",
      "5 3  | 0 0  | 7 0\n",
      "6 0  | 0 1  | 9 5\n",
      "-----------------\n",
      "0 9  | 8 0  | 0 0\n",
      "8 0  | 0 0  | 6 0\n",
      "-----------------\n",
      "4 0  | 0 8  | 0 3\n",
      "7 0  | 0 0  | 2 0\n",
      "\n",
      "Solved Sudoku Puzzle:\n",
      "5 3  | 1 2  | 7 4\n",
      "6 2  | 4 1  | 9 5\n",
      "-----------------\n",
      "1 9  | 8 3  | 4 2\n",
      "8 4  | 2 5  | 6 1\n",
      "-----------------\n",
      "4 1  | 6 8  | 5 3\n",
      "7 5  | 3 4  | 2 6\n"
     ]
    }
   ],
   "source": [
    "def print_board(board):\n",
    "    \"\"\"Function to print the board\"\"\"\n",
    "    for i in range(6):\n",
    "        if i % 2 == 0 and i != 0:\n",
    "            print(\"-\" * 17) \n",
    "        for j in range(6):\n",
    "            if j % 2 == 0 and j != 0:\n",
    "                print(\" | \", end=\"\")\n",
    "            print(board[i][j], end=\" \" if j != 5 else \"\\n\")\n",
    "\n",
    "def is_valid(board, row, col, num):\n",
    "    \"\"\"Check if it's valid to place the number 'num' at position (row, col)\"\"\"\n",
    "  \n",
    "    for j in range(6):\n",
    "        if board[row][j] == num:\n",
    "            return False\n",
    "\n",
    "    \n",
    "    for i in range(6):\n",
    "        if board[i][col] == num:\n",
    "            return False\n",
    "\n",
    "    \n",
    "    start_row, start_col = 2 * (row // 2), 3 * (col // 3)\n",
    "    for i in range(start_row, start_row + 2):\n",
    "        for j in range(start_col, start_col + 3):\n",
    "            if board[i][j] == num:\n",
    "                return False\n",
    "\n",
    "    return True\n",
    "\n",
    "def solve_sudoku(board):\n",
    "    \"\"\"Solves the Sudoku puzzle using backtracking\"\"\"\n",
    "    for row in range(6):\n",
    "        for col in range(6):\n",
    "            if board[row][col] == 0:  \n",
    "                for num in range(1, 7): \n",
    "                    if is_valid(board, row, col, num):\n",
    "                        board[row][col] = num \n",
    "                        \n",
    "                        if solve_sudoku(board):  \n",
    "                            return True\n",
    "                        \n",
    "                        board[row][col] = 0  \n",
    "                return False  \n",
    "    return True  \n",
    "\n",
    "def main():\n",
    "\n",
    "    board = [\n",
    "        [5, 3, 0, 0, 7, 0],\n",
    "        [6, 0, 0, 1, 9, 5],\n",
    "        [0, 9, 8, 0, 0, 0],\n",
    "        [8, 0, 0, 0, 6, 0],\n",
    "        [4, 0, 0, 8, 0, 3],\n",
    "        [7, 0, 0, 0, 2, 0]\n",
    "    ]\n",
    "    \n",
    "    print(\"Original Sudoku Puzzle:\")\n",
    "    print_board(board)\n",
    "    \n",
    "    if solve_sudoku(board):\n",
    "        print(\"\\nSolved Sudoku Puzzle:\")\n",
    "        print_board(board)\n",
    "    else:\n",
    "        print(\"\\nNo solution exists.\")\n",
    "\n",
    "if __name__ == \"__main__\":\n",
    "    main()\n"
   ]
  },
  {
   "cell_type": "markdown",
   "id": "2e876d6d-bced-4f11-939f-cdbb35c6ada9",
   "metadata": {
    "jp-MarkdownHeadingCollapsed": true
   },
   "source": [
    "#### 4. the decision tree based ID3 algorithm."
   ]
  },
  {
   "cell_type": "code",
   "execution_count": 21,
   "id": "86d7f1d5-c793-4a25-8259-1c9fc5937641",
   "metadata": {},
   "outputs": [
    {
     "name": "stdout",
     "output_type": "stream",
     "text": [
      "Decision Tree:\n",
      "{'petal length (cm)': {np.float64(1.4): np.int64(0), np.float64(1.3): np.int64(0), np.float64(1.5): np.int64(0), np.float64(1.7): np.int64(0), np.float64(1.6): np.int64(0), np.float64(1.1): np.int64(0), np.float64(1.2): np.int64(0), np.float64(1.0): np.int64(0), np.float64(1.9): np.int64(0), np.float64(4.7): np.int64(1), np.float64(4.5): {'sepal length (cm)': {np.float64(6.4): np.int64(1), np.float64(5.7): np.int64(1), np.float64(5.6): np.int64(1), np.float64(6.2): np.int64(1), np.float64(6.0): np.int64(1), np.float64(5.4): np.int64(1), np.float64(4.9): np.int64(2)}}, np.float64(4.9): {'sepal width (cm)': {np.float64(3.1): np.int64(1), np.float64(2.5): np.int64(1), np.float64(2.8): np.int64(2), np.float64(2.7): np.int64(2), np.float64(3.0): np.int64(2)}}, np.float64(4.0): np.int64(1), np.float64(4.6): np.int64(1), np.float64(3.3): np.int64(1), np.float64(3.9): np.int64(1), np.float64(3.5): np.int64(1), np.float64(4.2): np.int64(1), np.float64(3.6): np.int64(1), np.float64(4.4): np.int64(1), np.float64(4.1): np.int64(1), np.float64(4.8): {'sepal length (cm)': {np.float64(5.9): np.int64(1), np.float64(6.8): np.int64(1), np.float64(6.2): np.int64(2), np.float64(6.0): np.int64(2)}}, np.float64(4.3): np.int64(1), np.float64(5.0): {'sepal length (cm)': {np.float64(6.7): np.int64(1), np.float64(5.7): np.int64(2), np.float64(6.0): np.int64(2), np.float64(6.3): np.int64(2)}}, np.float64(3.8): np.int64(1), np.float64(3.7): np.int64(1), np.float64(5.1): {'sepal length (cm)': {np.float64(6.0): np.int64(1), np.float64(5.8): np.int64(2), np.float64(6.5): np.int64(2), np.float64(6.3): np.int64(2), np.float64(6.9): np.int64(2), np.float64(5.9): np.int64(2)}}, np.float64(3.0): np.int64(1), np.float64(6.0): np.int64(2), np.float64(5.9): np.int64(2), np.float64(5.6): np.int64(2), np.float64(5.8): np.int64(2), np.float64(6.6): np.int64(2), np.float64(6.3): np.int64(2), np.float64(6.1): np.int64(2), np.float64(5.3): np.int64(2), np.float64(5.5): np.int64(2), np.float64(6.7): np.int64(2), np.float64(6.9): np.int64(2), np.float64(5.7): np.int64(2), np.float64(6.4): np.int64(2), np.float64(5.4): np.int64(2), np.float64(5.2): np.int64(2)}}\n",
      "\n",
      "Predicted class for the new sample: 0\n"
     ]
    }
   ],
   "source": [
    "import pandas as pd\n",
    "import numpy as np\n",
    "from sklearn.datasets import load_iris\n",
    "from math import log2\n",
    "\n",
    "\n",
    "iris = load_iris()\n",
    "X = iris.data\n",
    "y = iris.target  \n",
    "feature_names = iris.feature_names\n",
    "\n",
    "\n",
    "data = pd.DataFrame(X, columns=feature_names)\n",
    "data['target'] = y\n",
    "\n",
    "\n",
    "def entropy(data):\n",
    "    total = len(data)\n",
    "    \n",
    "    label_counts = data['target'].value_counts()\n",
    "    entropy_val = 0\n",
    "    for count in label_counts:\n",
    "      \n",
    "        prob = count / total\n",
    "        entropy_val -= prob * log2(prob)\n",
    "    return entropy_val\n",
    "\n",
    "\n",
    "def information_gain(data, feature):\n",
    "    \n",
    "    original_entropy = entropy(data)\n",
    "    \n",
    " \n",
    "    feature_values = data[feature].unique()\n",
    "    weighted_entropy = 0\n",
    "    for value in feature_values:\n",
    "        subset = data[data[feature] == value]\n",
    "        weighted_entropy += (len(subset) / len(data)) * entropy(subset)\n",
    "    \n",
    " \n",
    "    return original_entropy - weighted_entropy\n",
    "\n",
    "\n",
    "def best_feature(data):\n",
    "    best_info_gain = -float('inf')\n",
    "    best_feature = None\n",
    "    for feature in data.columns[:-1]:  \n",
    "        info_gain = information_gain(data, feature)\n",
    "        if info_gain > best_info_gain:\n",
    "            best_info_gain = info_gain\n",
    "            best_feature = feature\n",
    "    return best_feature\n",
    "\n",
    "\n",
    "def id3(data, features):\n",
    "   \n",
    "    if len(data['target'].unique()) == 1:\n",
    "        return data['target'].iloc[0]\n",
    "    \n",
    " \n",
    "    if len(features) == 0:\n",
    "        return data['target'].mode()[0]\n",
    "    \n",
    "\n",
    "    best_feat = best_feature(data)\n",
    "    tree = {best_feat: {}}\n",
    "    \n",
    "\n",
    "    for value in data[best_feat].unique():\n",
    "        subset = data[data[best_feat] == value]\n",
    "        subtree = id3(subset, [f for f in features if f != best_feat])\n",
    "        tree[best_feat][value] = subtree\n",
    "    \n",
    "    return tree\n",
    "\n",
    "\n",
    "def classify(tree, sample):\n",
    "    if isinstance(tree, dict):\n",
    "\n",
    "        feature = list(tree.keys())[0]\n",
    "    \n",
    "        feature_value = sample[feature]\n",
    "  \n",
    "        return classify(tree[feature][feature_value], sample)\n",
    "    else:\n",
    "       \n",
    "        return tree\n",
    "\n",
    "\n",
    "tree = id3(data, feature_names)\n",
    "\n",
    "\n",
    "print(\"Decision Tree:\")\n",
    "print(tree)\n",
    "\n",
    "\n",
    "new_sample = {\n",
    "    'sepal length (cm)': 5.1,\n",
    "    'sepal width (cm)': 3.5,\n",
    "    'petal length (cm)': 1.4,\n",
    "    'petal width (cm)': 0.2\n",
    "}\n",
    "\n",
    "\n",
    "new_sample_df = pd.DataFrame([new_sample])\n",
    "\n",
    "\n",
    "predicted_class = classify(tree, new_sample)\n",
    "print(f\"\\nPredicted class for the new sample: {predicted_class}\")\n"
   ]
  },
  {
   "cell_type": "markdown",
   "id": "f37696d5-82ac-468f-acf2-305bfbe85860",
   "metadata": {
    "jp-MarkdownHeadingCollapsed": true
   },
   "source": [
    "#### 5. simple linear regression and multiple linear regression."
   ]
  },
  {
   "cell_type": "code",
   "execution_count": 16,
   "id": "3cad70bf-3f06-4a2b-aa75-eb0dcb456755",
   "metadata": {},
   "outputs": [
    {
     "name": "stdout",
     "output_type": "stream",
     "text": [
      "Simple Linear Regression Results:\n",
      "Mean Squared Error: 3.6710129878857147\n",
      "R-squared: 0.8453207776609701\n"
     ]
    },
    {
     "data": {
      "image/png": "[encoded data removed]",
      "text/plain": [
       "<Figure size 640x480 with 1 Axes>"
      ]
     },
     "metadata": {},
     "output_type": "display_data"
    },
    {
     "name": "stdout",
     "output_type": "stream",
     "text": [
      "\n",
      "Multiple Linear Regression Results:\n",
      "Mean Squared Error: 27.411631226306135\n",
      "R-squared: 0.7772487687098355\n",
      "Coefficients: [2.93437988 1.88003911 1.04355848]\n",
      "Intercept: 10.08168506235467\n"
     ]
    }
   ],
   "source": [
    "import numpy as np\n",
    "import matplotlib.pyplot as plt\n",
    "from sklearn.model_selection import train_test_split\n",
    "from sklearn.linear_model import LinearRegression\n",
    "from sklearn.metrics import mean_squared_error, r2_score\n",
    "\n",
    "\n",
    "def simple_linear_regression():\n",
    "\n",
    "    np.random.seed(0)\n",
    "    X = np.random.rand(100, 1) * 10 \n",
    "    y = 2 * X + 3 + np.random.randn(100, 1) * 2 \n",
    "\n",
    "\n",
    "    X_train, X_test, y_train, y_test = train_test_split(X, y, test_size=0.2, random_state=42)\n",
    "\n",
    "    \n",
    "    model = LinearRegression()\n",
    "    model.fit(X_train, y_train)\n",
    "\n",
    "  \n",
    "    y_pred = model.predict(X_test)\n",
    "\n",
    "\n",
    "    mse = mean_squared_error(y_test, y_pred)\n",
    "    r2 = r2_score(y_test, y_pred)\n",
    "\n",
    "    print(\"Simple Linear Regression Results:\")\n",
    "    print(f\"Mean Squared Error: {mse}\")\n",
    "    print(f\"R-squared: {r2}\")\n",
    "    \n",
    "\n",
    "    plt.scatter(X_test, y_test, color='blue', label='Actual Data')\n",
    "    plt.plot(X_test, y_pred, color='red', label='Fitted Line')\n",
    "    plt.xlabel('Feature')\n",
    "    plt.ylabel('Target')\n",
    "    plt.title('Simple Linear Regression')\n",
    "    plt.legend()\n",
    "    plt.show()\n",
    "\n",
    "\n",
    "\n",
    "def multiple_linear_regression():\n",
    "\n",
    "    np.random.seed(0)\n",
    "    X = np.random.rand(100, 3) * 10  # 3 \n",
    "    y = 3 * X[:, 0] + 2 * X[:, 1] + 1 * X[:, 2] + 10 + np.random.randn(100) * 5 \n",
    "\n",
    "  \n",
    "    X_train, X_test, y_train, y_test = train_test_split(X, y, test_size=0.2, random_state=42)\n",
    "\n",
    "\n",
    "    model = LinearRegression()\n",
    "    model.fit(X_train, y_train)\n",
    "\n",
    "\n",
    "    y_pred = model.predict(X_test)\n",
    "\n",
    " \n",
    "    mse = mean_squared_error(y_test, y_pred)\n",
    "    r2 = r2_score(y_test, y_pred)\n",
    "\n",
    "    print(\"\\nMultiple Linear Regression Results:\")\n",
    "    print(f\"Mean Squared Error: {mse}\")\n",
    "    print(f\"R-squared: {r2}\")\n",
    "    \n",
    "\n",
    "    print(f\"Coefficients: {model.coef_}\")\n",
    "    print(f\"Intercept: {model.intercept_}\")\n",
    "\n",
    "\n",
    "\n",
    "simple_linear_regression()\n",
    "multiple_linear_regression()\n"
   ]
  },
  {
   "cell_type": "markdown",
   "id": "54f86762-b26a-4646-ab19-45e7e9266d43",
   "metadata": {
    "jp-MarkdownHeadingCollapsed": true
   },
   "source": [
    "#### 6. naïve Bayesian classifier"
   ]
  },
  {
   "cell_type": "code",
   "execution_count": 17,
   "id": "c8a0cbe9-6efc-40d0-8ce0-e80e0af5ddb9",
   "metadata": {},
   "outputs": [
    {
     "name": "stdout",
     "output_type": "stream",
     "text": [
      "Accuracy of the Naive Bayes classifier: 100.00%\n"
     ]
    }
   ],
   "source": [
    "import numpy as np\n",
    "from sklearn.model_selection import train_test_split\n",
    "from sklearn.naive_bayes import GaussianNB\n",
    "from sklearn.datasets import load_iris\n",
    "from sklearn.metrics import accuracy_score\n",
    "\n",
    "\n",
    "iris = load_iris()\n",
    "X = iris.data  \n",
    "y = iris.target\n",
    "\n",
    "\n",
    "X_train, X_test, y_train, y_test = train_test_split(X, y, test_size=0.2, random_state=42)\n",
    "\n",
    "\n",
    "model = GaussianNB()\n",
    "\n",
    "\n",
    "model.fit(X_train, y_train)\n",
    "\n",
    "\n",
    "y_pred = model.predict(X_test)\n",
    "\n",
    "\n",
    "accuracy = accuracy_score(y_test, y_pred)\n",
    "\n",
    "print(f\"Accuracy of the Naive Bayes classifier: {accuracy * 100:.2f}%\")\n"
   ]
  },
  {
   "cell_type": "markdown",
   "id": "0c14455d-4bee-4733-8e3c-b38402e605ef",
   "metadata": {
    "jp-MarkdownHeadingCollapsed": true
   },
   "source": [
    "#### 7. k-Nearest Neighbour algorithm"
   ]
  },
  {
   "cell_type": "code",
   "execution_count": 18,
   "id": "772bdfe3-2180-4a6d-b3a0-73449d131cee",
   "metadata": {},
   "outputs": [
    {
     "name": "stdout",
     "output_type": "stream",
     "text": [
      "Accuracy of k-NN classifier (k=3): 100.00%\n"
     ]
    }
   ],
   "source": [
    "import numpy as np\n",
    "from sklearn.model_selection import train_test_split\n",
    "from sklearn.neighbors import KNeighborsClassifier\n",
    "from sklearn.datasets import load_iris\n",
    "from sklearn.metrics import accuracy_score\n",
    "\n",
    "\n",
    "iris = load_iris()\n",
    "X = iris.data \n",
    "y = iris.target  \n",
    "\n",
    "\n",
    "X_train, X_test, y_train, y_test = train_test_split(X, y, test_size=0.2, random_state=42)\n",
    "\n",
    "\n",
    "k = 3  \n",
    "model = KNeighborsClassifier(n_neighbors=k)\n",
    "\n",
    "\n",
    "model.fit(X_train, y_train)\n",
    "\n",
    "\n",
    "y_pred = model.predict(X_test)\n",
    "\n",
    "\n",
    "accuracy = accuracy_score(y_test, y_pred)\n",
    "\n",
    "print(f\"Accuracy of k-NN classifier (k={k}): {accuracy * 100:.2f}%\")\n"
   ]
  },
  {
   "cell_type": "markdown",
   "id": "c2969faa-7ea1-45b7-a74f-e541d30d354b",
   "metadata": {
    "jp-MarkdownHeadingCollapsed": true
   },
   "source": [
    "#### 8. compare Support Vector Machine (SVM) and Artificial Neural Network(ANN)"
   ]
  },
  {
   "cell_type": "code",
   "execution_count": 19,
   "id": "7ac0f7da-83c0-4721-92b9-834f4019db5e",
   "metadata": {},
   "outputs": [
    {
     "name": "stdout",
     "output_type": "stream",
     "text": [
      "Accuracy of Support Vector Machine (SVM): 100.00%\n",
      "Accuracy of Artificial Neural Network (ANN): 96.67%\n"
     ]
    },
    {
     "name": "stderr",
     "output_type": "stream",
     "text": [
      "/opt/tljh/user/lib/python3.12/site-packages/sklearn/neural_network/_multilayer_perceptron.py:691: ConvergenceWarning: Stochastic Optimizer: Maximum iterations (1000) reached and the optimization hasn't converged yet.\n",
      "  warnings.warn(\n"
     ]
    }
   ],
   "source": [
    "import numpy as np\n",
    "from sklearn.model_selection import train_test_split\n",
    "from sklearn.svm import SVC\n",
    "from sklearn.neural_network import MLPClassifier\n",
    "from sklearn.datasets import load_iris\n",
    "from sklearn.metrics import accuracy_score\n",
    "\n",
    "\n",
    "iris = load_iris()\n",
    "X = iris.data  \n",
    "y = iris.target\n",
    "\n",
    "X_train, X_test, y_train, y_test = train_test_split(X, y, test_size=0.2, random_state=42)\n",
    "\n",
    "\n",
    "svm_model = SVC(kernel='linear', random_state=42)\n",
    "\n",
    "\n",
    "svm_model.fit(X_train, y_train)\n",
    "\n",
    "\n",
    "svm_pred = svm_model.predict(X_test)\n",
    "\n",
    "\n",
    "svm_accuracy = accuracy_score(y_test, svm_pred)\n",
    "\n",
    "\n",
    "ann_model = MLPClassifier(hidden_layer_sizes=(10, ), max_iter=1000, random_state=42)\n",
    "\n",
    "\n",
    "ann_model.fit(X_train, y_train)\n",
    "\n",
    "\n",
    "ann_pred = ann_model.predict(X_test)\n",
    "\n",
    "\n",
    "ann_accuracy = accuracy_score(y_test, ann_pred)\n",
    "\n",
    "\n",
    "print(f\"Accuracy of Support Vector Machine (SVM): {svm_accuracy * 100:.2f}%\")\n",
    "print(f\"Accuracy of Artificial Neural Network (ANN): {ann_accuracy * 100:.2f}%\")\n"
   ]
  },
  {
   "cell_type": "markdown",
   "id": "10c2dc4c-e8c3-4e64-a0c3-2171bd866836",
   "metadata": {
    "jp-MarkdownHeadingCollapsed": true
   },
   "source": [
    "#### 9. k-means clustering algorithm"
   ]
  },
  {
   "cell_type": "code",
   "execution_count": 20,
   "id": "797194ff-b2fb-4802-8a92-9d79d8200aa6",
   "metadata": {},
   "outputs": [
    {
     "data": {
      "image/png": "[encoded data removed]",
      "text/plain": [
       "<Figure size 640x480 with 1 Axes>"
      ]
     },
     "metadata": {},
     "output_type": "display_data"
    },
    {
     "data": {
      "image/png": "[encoded data removed]",
      "text/plain": [
       "<Figure size 640x480 with 1 Axes>"
      ]
     },
     "metadata": {},
     "output_type": "display_data"
    },
    {
     "name": "stdout",
     "output_type": "stream",
     "text": [
      "Cluster Centers (Centroids):\n",
      "[[-1.58438467  2.83081263]\n",
      " [ 0.94973532  4.41906906]\n",
      " [ 1.98258281  0.86771314]\n",
      " [-1.37324398  7.75368871]]\n",
      "\n",
      "Labels (Cluster assignments for each point):\n",
      "[2 3 1 3 2 2 0 1 3 3 0 3 1 3 2 1 1 2 0 0 2 2 1 0 0 1 2 1 0 1 3 3 1 3 3 3 3\n",
      " 3 0 2 1 0 1 1 0 0 3 0 3 2 0 2 3 2 2 0 3 0 3 2 3 1 3 0 0 0 3 2 3 0 1 0 3 0\n",
      " 0 3 0 1 2 3 2 1 2 2 3 1 2 1 3 3 1 2 3 0 0 1 2 2 1 0 3 2 3 2 1 2 2 1 3 1 0\n",
      " 0 2 3 2 1 3 2 2 1 0 2 0 2 2 2 2 0 2 0 3 0 0 2 3 0 0 3 1 3 3 0 1 0 1 0 3 1\n",
      " 3 3 3 1 3 1 2 0 3 0 2 1 3 1 1 2 1 0 0 1 2 1 1 3 2 1 0 3 2 2 1 0 2 1 0 0 1\n",
      " 1 1 1 2 3 1 0 1 1 0 0 0 1 0 3 1 0 2 0 1 3 0 3 1 3 1 0 1 1 3 0 0 2 2 1 3 2\n",
      " 2 0 2 0 1 3 3 1 1 3 1 2 0 1 2 0 3 0 2 1 2 3 3 3 3 0 0 3 1 0 2 1 0 0 0 2 2\n",
      " 3 1 1 0 2 3 0 1 3 1 2 2 0 0 1 2 2 2 1 3 3 2 2 1 2 2 2 3 0 3 1 2 2 3 3 3 2\n",
      " 2 1 3 0]\n",
      "\n",
      "Inertia (Sum of squared distances to centroids): 212.00599621083478\n"
     ]
    }
   ],
   "source": [
    "import numpy as np\n",
    "import matplotlib.pyplot as plt\n",
    "from sklearn.datasets import make_blobs\n",
    "from sklearn.cluster import KMeans\n",
    "\n",
    "\n",
    "X, _ = make_blobs(n_samples=300, centers=4, cluster_std=0.60, random_state=0)\n",
    "\n",
    "\n",
    "plt.scatter(X[:, 0], X[:, 1], s=30)\n",
    "plt.title(\"Generated Data Points (Before Clustering)\")\n",
    "plt.show()\n",
    "\n",
    "\n",
    "kmeans = KMeans(n_clusters=4)  \n",
    "kmeans.fit(X)  \n",
    "\n",
    "\n",
    "centroids = kmeans.cluster_centers_\n",
    "labels = kmeans.labels_\n",
    "\n",
    "\n",
    "plt.scatter(X[:, 0], X[:, 1], c=labels, s=30, cmap='viridis')\n",
    "\n",
    "\n",
    "plt.scatter(centroids[:, 0], centroids[:, 1], c='red', s=200, alpha=0.5, marker='X')\n",
    "plt.title(\"K-Means Clustering Results\")\n",
    "plt.show()\n",
    "\n",
    "\n",
    "print(\"Cluster Centers (Centroids):\")\n",
    "print(centroids)\n",
    "\n",
    "print(\"\\nLabels (Cluster assignments for each point):\")\n",
    "print(labels)\n",
    "\n",
    "\n",
    "inertia = kmeans.inertia_\n",
    "print(f\"\\nInertia (Sum of squared distances to centroids): {inertia}\")\n"
   ]
  },
  {
   "cell_type": "code",
   "execution_count": null,
   "id": "67ec74d8-143c-430a-b5ba-9b40a0f9cafa",
   "metadata": {},
   "outputs": [],
   "source": []
  }
 ],
 "metadata": {
  "kernelspec": {
   "display_name": "Python 3 (ipykernel)",
   "language": "python",
   "name": "python3"
  },
  "language_info": {
   "codemirror_mode": {
    "name": "ipython",
    "version": 3
   },
   "file_extension": ".py",
   "mimetype": "text/x-python",
   "name": "python",
   "nbconvert_exporter": "python",
   "pygments_lexer": "ipython3",
   "version": "3.12.6"
  }
 },
 "nbformat": 4,
 "nbformat_minor": 5
}
