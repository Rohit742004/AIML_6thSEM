{
 "cells": [
  {
   "cell_type": "code",
   "execution_count": 3,
   "id": "8cf61542-edc1-4830-9bb0-91f9f4b7717a",
   "metadata": {},
   "outputs": [
    {
     "name": "stdin",
     "output_type": "stream",
     "text": [
      "Enter starting number 1\n",
      "Enter ending number 50\n"
     ]
    },
    {
     "name": "stdout",
     "output_type": "stream",
     "text": [
      "1\n",
      "2\n",
      "3\n",
      "5\n",
      "7\n",
      "11\n",
      "13\n",
      "17\n",
      "19\n",
      "23\n",
      "29\n",
      "31\n",
      "37\n",
      "41\n",
      "43\n",
      "47\n"
     ]
    }
   ],
   "source": [
    "# 1.Print all prime nubers from m to n\n",
    "m = int(input(\"Enter starting number\"))\n",
    "n = int(input(\"Enter ending number\"))\n",
    "for i in range(m,n):\n",
    "    prime = True\n",
    "    for num in range(2,i):\n",
    "        if i%num==0:\n",
    "            prime=False\n",
    "    if prime:\n",
    "            print(i)"
   ]
  },
  {
   "cell_type": "code",
   "execution_count": 34,
   "id": "ac826d3e-f566-4143-b2b7-5b4b1dbab6df",
   "metadata": {},
   "outputs": [
    {
     "name": "stdin",
     "output_type": "stream",
     "text": [
      "Enter frist number 1\n",
      "Enter second number 100\n"
     ]
    },
    {
     "name": "stdout",
     "output_type": "stream",
     "text": [
      "Random number generated:  [40, 41, 71, 19, 31, 23, 42, 40]\n",
      "307\n"
     ]
    }
   ],
   "source": [
    "# 2.Generate a random number between the range n1 and n2, then find sum of natural numbers till that number\n",
    "import random\n",
    "\n",
    "\n",
    "n1 = int(input(\"Enter frist number\"))\n",
    "n2 = int(input(\"Enter second number\"))\n",
    "\n",
    "random_number = [random.randint(n1, n2)for _ in range(8)]\n",
    "print(\"Random number generated: \",random_number)\n",
    "\n",
    "Sum = sum(random_number)\n",
    "print(Sum)"
   ]
  },
  {
   "cell_type": "code",
   "execution_count": 40,
   "id": "fc5e9ce8-9c6e-4260-81c1-43a96162e6aa",
   "metadata": {},
   "outputs": [
    {
     "name": "stdin",
     "output_type": "stream",
     "text": [
      "Enter frist number 1\n",
      "Enter second number 50\n"
     ]
    },
    {
     "name": "stdout",
     "output_type": "stream",
     "text": [
      "Random number generated:  7\n",
      "Natural numbers of range n3:  [37, 8, 14, 19, 38, 50, 19]\n",
      "Sum of n4:  185\n"
     ]
    }
   ],
   "source": [
    "# 3.Generate a random number between the range n1 and n2 and store in variable n3, then generate n3 rando numbers and fin their sum\n",
    "n1 = int(input(\"Enter frist number\"))\n",
    "n2 = int(input(\"Enter second number\"))\n",
    "\n",
    "n3 = random.randint(n1, n2)\n",
    "print(\"Random number generated: \",n3)\n",
    "\n",
    "n4 = [random.randint(1, 52)for _ in range(n3)]\n",
    "print(\"Natural numbers of range n3: \",n4)\n",
    "Sum = sum(n4)\n",
    "print(\"Sum of n4: \",Sum)"
   ]
  },
  {
   "cell_type": "code",
   "execution_count": 66,
   "id": "43bc198e-14ac-4d53-8a9d-fb654d66ba2d",
   "metadata": {},
   "outputs": [
    {
     "name": "stdout",
     "output_type": "stream",
     "text": [
      "List with 100 random numbers:  [11, 11, 10, 5, 13, 2, 15, 8, 7, 11, 13, 1, 15, 10, 19, 11, 3, 18, 14, 16, 20, 5, 15, 18, 7, 11, 5, 12, 1, 2, 11, 17, 6, 10, 2, 14, 1, 15, 8, 5, 7, 2, 3, 18, 10, 5, 16, 8, 7, 19, 9, 9, 4, 18, 6, 3, 17, 6, 16, 2, 10, 4, 20, 2, 16, 3, 12, 9, 12, 16, 7, 20, 18, 1, 18, 1, 2, 8, 1, 11, 16, 11, 13, 13, 5, 8, 16, 1, 20, 10, 7, 13, 15, 2, 10, 8, 17, 18, 15, 10]\n",
      "\n",
      "frist 10 numbers from 100 random numbers:  [11, 11, 10, 5, 13, 2, 15, 8, 7, 11]\n",
      "\n",
      "Last 10 numbers from 100 random numbers:  [7, 13, 15, 2, 10, 8, 17, 18, 15, 10]\n",
      "\n",
      "First 10 even numbers: [10, 2, 8, 10, 18, 14, 16, 20, 18, 12]\n",
      "\n",
      "Sorted List (Ascending): [1, 1, 1, 1, 1, 1, 1, 2, 2, 2, 2, 2, 2, 2, 2, 3, 3, 3, 3, 4, 4, 5, 5, 5, 5, 5, 5, 6, 6, 6, 7, 7, 7, 7, 7, 7, 8, 8, 8, 8, 8, 8, 9, 9, 9, 10, 10, 10, 10, 10, 10, 10, 10, 11, 11, 11, 11, 11, 11, 11, 11, 12, 12, 12, 13, 13, 13, 13, 13, 14, 14, 15, 15, 15, 15, 15, 15, 16, 16, 16, 16, 16, 16, 16, 17, 17, 17, 18, 18, 18, 18, 18, 18, 18, 19, 19, 20, 20, 20, 20]\n",
      "\n",
      "Sorted List (Descending): [20, 20, 20, 20, 19, 19, 18, 18, 18, 18, 18, 18, 18, 17, 17, 17, 16, 16, 16, 16, 16, 16, 16, 15, 15, 15, 15, 15, 15, 14, 14, 13, 13, 13, 13, 13, 12, 12, 12, 11, 11, 11, 11, 11, 11, 11, 11, 10, 10, 10, 10, 10, 10, 10, 10, 9, 9, 9, 8, 8, 8, 8, 8, 8, 7, 7, 7, 7, 7, 7, 6, 6, 6, 5, 5, 5, 5, 5, 5, 4, 4, 3, 3, 3, 3, 2, 2, 2, 2, 2, 2, 2, 2, 1, 1, 1, 1, 1, 1, 1]\n",
      "\n"
     ]
    },
    {
     "name": "stdin",
     "output_type": "stream",
     "text": [
      "Enter a number to search:  11\n"
     ]
    },
    {
     "name": "stdout",
     "output_type": "stream",
     "text": [
      "11 is present at index 0\n",
      "\n",
      "Data type of the list: <class 'list'>\n",
      "\n"
     ]
    },
    {
     "name": "stdin",
     "output_type": "stream",
     "text": [
      "Enter position to insert an element (0-99):  1\n",
      "Enter element to insert:  1\n"
     ]
    },
    {
     "name": "stdout",
     "output_type": "stream",
     "text": [
      "List after inserting 1 at position 1: [11, 1, 11, 10, 5, 13, 2, 15, 8, 7, 11, 13, 1, 15, 10]\n",
      "\n"
     ]
    },
    {
     "name": "stdin",
     "output_type": "stream",
     "text": [
      "Enter an element to append:  10\n"
     ]
    },
    {
     "name": "stdout",
     "output_type": "stream",
     "text": [
      "List after appending 10: [9, 4, 18, 6, 3, 17, 6, 16, 2, 10, 4, 20, 2, 16, 3, 12, 9, 12, 16, 7, 20, 18, 1, 18, 1, 2, 8, 1, 11, 16, 11, 13, 13, 5, 8, 16, 1, 20, 10, 7, 13, 15, 2, 10, 8, 17, 18, 15, 10, 10]\n",
      "\n"
     ]
    }
   ],
   "source": [
    "# 4.Create a list with 100 random numbers and perform the following tasks.\n",
    "    # a. Display first 10 numbers\n",
    "    # b. Display last 10 numbers\n",
    "    # c. Display first 10 even numbers\n",
    "    # d. Sort the list in ascending and descending order\n",
    "    # e. Search a given key element in a list\n",
    "    # f. Print the data type of a list?\n",
    "    # g. Insert an element at a particular position\n",
    "    # h. Append an element at the end of the list\n",
    "\n",
    "import random\n",
    "num = [random.randint(1,20)for _ in range(100)]\n",
    "print(\"List with 100 random numbers: \",num)\n",
    "print()\n",
    "\n",
    "#a\n",
    "frist = num[:10]\n",
    "print(\"frist 10 numbers from 100 random numbers: \",frist)\n",
    "print()\n",
    "\n",
    "#b\n",
    "last = num[-10:]\n",
    "print(\"Last 10 numbers from 100 random numbers: \",last)\n",
    "print()\n",
    "\n",
    "#c\n",
    "even_numbers = [n for n in num if n % 2 == 0][:10]\n",
    "print(\"First 10 even numbers:\", even_numbers)\n",
    "print()\n",
    "\n",
    "#d\n",
    "ascending_list = sorted(num)\n",
    "descending_list = sorted(num, reverse=True)\n",
    "print(\"Sorted List (Ascending):\", ascending_list)\n",
    "print()\n",
    "print(\"Sorted List (Descending):\", descending_list)\n",
    "print()\n",
    "\n",
    "# e.\n",
    "key = int(input(\"Enter a number to search: \"))\n",
    "if key in num:\n",
    "    print(f\"{key} is present at index {num.index(key)}\")\n",
    "else:\n",
    "    print(f\"{key} is not found in the list\")\n",
    "print()\n",
    "\n",
    "# f.\n",
    "print(\"Data type of the list:\", type(num))\n",
    "print()\n",
    "\n",
    "# g.\n",
    "position = int(input(\"Enter position to insert an element (0-99): \"))\n",
    "element = int(input(\"Enter element to insert: \"))\n",
    "num.insert(position, element)\n",
    "print(f\"List after inserting {element} at position {position}:\", num[:15])  # Showing first 15 for clarity\n",
    "print()\n",
    "\n",
    "# h.\n",
    "append_element = int(input(\"Enter an element to append: \"))\n",
    "num.append(append_element)\n",
    "print(f\"List after appending {append_element}:\", num[-50:]) \n",
    "print()"
   ]
  },
  {
   "cell_type": "code",
   "execution_count": 67,
   "id": "fe14c71d-7dec-4069-96a0-2024f8eef352",
   "metadata": {},
   "outputs": [
    {
     "name": "stdout",
     "output_type": "stream",
     "text": [
      "List 1: [1, 2, 3, 4, 5, 6, 7, 8, 9, 10]\n",
      "List 2: [11, 12, 13, 14, 15, 16, 17, 18, 19, 20]\n",
      "List after adding elements of list2 to list1: [1, 2, 3, 4, 5, 6, 7, 8, 9, 10, 11, 12, 13, 14, 15, 16, 17, 18, 19, 20]\n",
      "List after removing second item: [1, 3, 4, 5, 6, 7, 8, 9, 10, 11, 12, 13, 14, 15, 16, 17, 18, 19, 20]\n",
      "List after removing last item: [1, 3, 4, 5, 6, 7, 8, 9, 10, 11, 12, 13, 14, 15, 16, 17, 18, 19]\n"
     ]
    }
   ],
   "source": [
    "# 5.Create two list with elements 10\n",
    "#     a.Add the elements of second to frist list.\n",
    "#     b.Remove second items from the list using pop function.\n",
    "#     c.Remove the last item.\n",
    "\n",
    "\n",
    "list1 = [i for i in range(1, 11)]  # [1, 2, 3, ..., 10]\n",
    "list2 = [i for i in range(11, 21)] # [11, 12, ..., 20]\n",
    "\n",
    "print(\"List 1:\", list1)\n",
    "print(\"List 2:\", list2)\n",
    "\n",
    "# a.\n",
    "list1.extend(list2)\n",
    "print(\"List after adding elements of list2 to list1:\", list1)\n",
    "\n",
    "# b.\n",
    "list1.pop(1)  # Removes the element at index 1\n",
    "print(\"List after removing second item:\", list1)\n",
    "\n",
    "# c.\n",
    "list1.pop()  # Removes the last element\n",
    "print(\"List after removing last item:\", list1)\n",
    "\n"
   ]
  },
  {
   "cell_type": "code",
   "execution_count": 4,
   "id": "b5260106-0f0a-44a9-aefb-33e27b210edf",
   "metadata": {},
   "outputs": [
    {
     "name": "stdout",
     "output_type": "stream",
     "text": [
      "New List containing only fruits with letters a are: ['apple', 'avocado']\n",
      "The List excluding Apple are: ['banana', 'mango', 'orange', 'grape', 'kiwi', 'avocado']\n"
     ]
    }
   ],
   "source": [
    "# 6. Create a list of fruits\n",
    "#     a. Based on a list of fruits, form a new list, containing only the fruits with letters \"a\"\n",
    "#     b. Only accept items that are not \"apple\"\n",
    "\n",
    "fruits = [\"apple\", \"banana\", \"mango\", \"orange\", \"grape\", \"kiwi\",\"avocado\"]\n",
    "a = [a for a in fruits if a.lower().startswith('a')]\n",
    "print(\"New List containing only fruits with letters a are:\",a)\n",
    "      \n",
    "na = [a for a in fruits if a != 'apple']\n",
    "print(\"The List excluding Apple are:\",na)\n",
    "\n",
    "# ANS:\n",
    "\n",
    "#       New List containing only fruits with letters a are: ['apple', 'avocado']\n",
    "#       The List excluding Apple are: ['banana', 'mango', 'orange', 'grape', 'kiwi', 'avocado']"
   ]
  },
  {
   "cell_type": "code",
   "execution_count": 5,
   "id": "1c1183a4-7152-4de6-940f-7adefb8ac470",
   "metadata": {},
   "outputs": [
    {
     "name": "stdout",
     "output_type": "stream",
     "text": [
      "a. Matrix Addition Result:\n",
      "[8, 10, 12]\n",
      "[14, 16, 18]\n"
     ]
    }
   ],
   "source": [
    "# 7.Create a two matrices\n",
    "#     a. Add two matrix with a for loop\n",
    "#     b. Adding and subtracting key value pair as country with its capital\n",
    "\n",
    "m1 = [[1,2,3],[4,5,6]]\n",
    "m2 = [[7,8,9],[10,11,12]]\n",
    "result = [[0 for _ in range(len(m1[0]))] for _ in range(len(m1))]\n",
    "for i in range(len(m1)):\n",
    "    for j in range(len(m1[0])):\n",
    "        result[i][j] = m1[i][j] + m2[i][j]\n",
    "        \n",
    "print(\"a. Matrix Addition Result:\")\n",
    "for row in result:\n",
    "    print(row)\n"
   ]
  },
  {
   "cell_type": "code",
   "execution_count": 6,
   "id": "5a3ff4c0-7af8-4e0e-b6b7-bc0df5ea9528",
   "metadata": {},
   "outputs": [
    {
     "name": "stdout",
     "output_type": "stream",
     "text": [
      "a. The Captial of India is: New Delhi\n",
      "\n",
      "b. List of Keys in Dictionary are: dict_keys(['India', 'USA', 'France', 'Japan', 'Germany', 'Nepal'])\n",
      "b. List of Values in Dictionary are: dict_values(['New Delhi', 'Washington D.C.', 'Paris', 'Tokyo', 'Berlin', 'Kathmandu'])\n",
      "\n",
      "c. After adding new items into dictionary lists are: {'India': 'New Delhi', 'USA': 'Washington D.C.', 'France': 'Paris', 'Japan': 'Tokyo', 'Germany': 'Berlin', 'Nepal': 'Kathmandu'}\n",
      "\n",
      "d. List of country:Capital are:\n",
      "India:New Delhi\n",
      "USA:Washington D.C.\n",
      "France:Paris\n",
      "Japan:Tokyo\n",
      "Germany:Berlin\n",
      "Nepal:Kathmandu\n"
     ]
    }
   ],
   "source": [
    "# 8.Create a dictionar with key value pairs as country with its capital\n",
    "# a. Print the capital of a given country\n",
    "# b. Print the list of the values of dictionary and a list of the keys\n",
    "# c. Add a new item to the original dictionary\n",
    "# d. Print a list of the country:Capital pairs\n",
    "\n",
    "cc = {\n",
    "    \"India\": \"New Delhi\",\n",
    "    \"USA\": \"Washington D.C.\",\n",
    "    \"France\": \"Paris\",\n",
    "    \"Japan\": \"Tokyo\",\n",
    "    \"Germany\": \"Berlin\",\n",
    "    \"Nepal\": \"Kathmandu\"\n",
    "    }\n",
    "        \n",
    "print(\"a. The Captial of India is:\",cc.get(\"India\"))\n",
    "print()\n",
    "        \n",
    "print(\"b. List of Keys in Dictionary are:\",cc.keys())\n",
    "print(\"b. List of Values in Dictionary are:\",cc.values())\n",
    "print()\n",
    "        \n",
    "cc[\"Germany\"]=\"Berlin\"\n",
    "print(\"c. After adding new items into dictionary lists are:\",cc)\n",
    "print()\n",
    "        \n",
    "print(\"d. List of country:Capital are:\")\n",
    "for country, capitals in cc.items():\n",
    "    print(f\"{country}:{capitals}\")\n"
   ]
  },
  {
   "cell_type": "code",
   "execution_count": 7,
   "id": "74d0df65-bf37-4ea6-8cd8-725d866a10cb",
   "metadata": {},
   "outputs": [
    {
     "name": "stdout",
     "output_type": "stream",
     "text": [
      "Name of Student 1: John\n",
      "Name of Student 2: Emma\n",
      "Name of Student 3: Alex\n"
     ]
    }
   ],
   "source": [
    "# 9.Create a dictionary containing three dictionaries for student information\n",
    "\n",
    "students = {\n",
    "    1: {\"name\": \"John\", \"usn\": \"001\", \"year_of_passing\": 2023},\n",
    "    2: {\"name\": \"Emma\", \"usn\": \"002\", \"year_of_passing\": 2024},\n",
    "    3: {\"name\": \"Alex\", \"usn\": \"003\", \"year_of_passing\": 2022}\n",
    "    }\n",
    "        \n",
    "# Print the names of two students\n",
    "print(\"Name of Student 1:\", students[1]['name'])\n",
    "print(\"Name of Student 2:\", students[2]['name'])\n",
    "print(\"Name of Student 3:\", students[3]['name'])\n"
   ]
  },
  {
   "cell_type": "code",
   "execution_count": 11,
   "id": "8c5f5c18-8512-4c03-bfb1-63c56b78b5e2",
   "metadata": {},
   "outputs": [
    {
     "name": "stdout",
     "output_type": "stream",
     "text": [
      "  |   |  \n",
      "  |   |  \n",
      "  |   |  \n",
      "---------\n"
     ]
    },
    {
     "name": "stdin",
     "output_type": "stream",
     "text": [
      "Player X, enter row and column (0-2):  1 2\n"
     ]
    },
    {
     "name": "stdout",
     "output_type": "stream",
     "text": [
      "  |   |  \n",
      "  |   | X\n",
      "  |   |  \n",
      "---------\n"
     ]
    },
    {
     "name": "stdin",
     "output_type": "stream",
     "text": [
      "Player O, enter row and column (0-2):  2 1\n"
     ]
    },
    {
     "name": "stdout",
     "output_type": "stream",
     "text": [
      "  |   |  \n",
      "  |   | X\n",
      "  | O |  \n",
      "---------\n"
     ]
    },
    {
     "name": "stdin",
     "output_type": "stream",
     "text": [
      "Player X, enter row and column (0-2):  2 2\n"
     ]
    },
    {
     "name": "stdout",
     "output_type": "stream",
     "text": [
      "  |   |  \n",
      "  |   | X\n",
      "  | O | X\n",
      "---------\n"
     ]
    },
    {
     "name": "stdin",
     "output_type": "stream",
     "text": [
      "Player O, enter row and column (0-2):  1 1\n"
     ]
    },
    {
     "name": "stdout",
     "output_type": "stream",
     "text": [
      "  |   |  \n",
      "  | O | X\n",
      "  | O | X\n",
      "---------\n"
     ]
    },
    {
     "name": "stdin",
     "output_type": "stream",
     "text": [
      "Player X, enter row and column (0-2):  0 2\n"
     ]
    },
    {
     "name": "stdout",
     "output_type": "stream",
     "text": [
      "  |   | X\n",
      "  | O | X\n",
      "  | O | X\n",
      "---------\n",
      "Player X wins!\n"
     ]
    }
   ],
   "source": [
    "# 10.Implement TIC-TAC-TOE Game \n",
    "def print_board(board):\n",
    "    for row in board:\n",
    "        print(\" | \".join(row))\n",
    "    print(\"-\" * 9)\n",
    "\n",
    "def check_winner(board):\n",
    "    lines = board + list(map(list, zip(*board))) + [[board[i][i] for i in range(3)], [board[i][2-i] for i in range(3)]]\n",
    "    for line in lines:\n",
    "        if line[0] == line[1] == line[2] and line[0] != \" \":\n",
    "            return line[0]\n",
    "    return None\n",
    "\n",
    "def main():\n",
    "    board = [[\" \"] * 3 for _ in range(3)]\n",
    "    player = \"X\"\n",
    "    \n",
    "    for _ in range(9):\n",
    "        print_board(board)\n",
    "        r, c = map(int, input(f\"Player {player}, enter row and column (0-2): \").split())\n",
    "        if board[r][c] != \" \":\n",
    "            print(\"Cell occupied, try again.\")\n",
    "            continue\n",
    "        board[r][c] = player\n",
    "        if (winner := check_winner(board)):\n",
    "            print_board(board)\n",
    "            print(f\"Player {winner} wins!\")\n",
    "            return\n",
    "        player = \"O\" if player == \"X\" else \"X\"\n",
    "    print_board(board)\n",
    "    print(\"It's a draw!\")\n",
    "\n",
    "if __name__ == \"__main__\":\n",
    "    main()\n",
    "\n"
   ]
  },
  {
   "cell_type": "code",
   "execution_count": null,
   "id": "7ca3fa14-70cf-40e2-8539-3ec44ffbde12",
   "metadata": {},
   "outputs": [],
   "source": []
  }
 ],
 "metadata": {
  "kernelspec": {
   "display_name": "Python 3 (ipykernel)",
   "language": "python",
   "name": "python3"
  },
  "language_info": {
   "codemirror_mode": {
    "name": "ipython",
    "version": 3
   },
   "file_extension": ".py",
   "mimetype": "text/x-python",
   "name": "python",
   "nbconvert_exporter": "python",
   "pygments_lexer": "ipython3",
   "version": "3.12.6"
  }
 },
 "nbformat": 4,
 "nbformat_minor": 5
}
